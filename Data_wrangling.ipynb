{
 "cells": [
  {
   "cell_type": "code",
   "execution_count": 135,
   "id": "777de79e",
   "metadata": {},
   "outputs": [],
   "source": [
    "import pandas as pd\n",
    "import matplotlib.pyplot as plt\n",
    "import seaborn as sns\n",
    "import os\n",
    "import requests\n",
    "import json\n",
    "import csv\n",
    "from requests import post\n",
    "import numpy as np"
   ]
  },
  {
   "cell_type": "code",
   "execution_count": 136,
   "id": "a778de92",
   "metadata": {},
   "outputs": [],
   "source": [
    "steam_data =pd.read_csv(r\"C:\\Users\\valdi\\OneDrive\\Documents\\Springboard\\steam.csv\")"
   ]
  },
  {
   "cell_type": "code",
   "execution_count": 137,
   "id": "76dd59d3",
   "metadata": {},
   "outputs": [
    {
     "name": "stdout",
     "output_type": "stream",
     "text": [
      "<bound method DataFrame.info of          appid                        name release_date  english  \\\n",
      "0           10              Counter-Strike   2000-11-01        1   \n",
      "1           20       Team Fortress Classic   1999-04-01        1   \n",
      "2           30               Day of Defeat   2003-05-01        1   \n",
      "3           40          Deathmatch Classic   2001-06-01        1   \n",
      "4           50   Half-Life: Opposing Force   1999-11-01        1   \n",
      "...        ...                         ...          ...      ...   \n",
      "27070  1065230             Room of Pandora   2019-04-24        1   \n",
      "27071  1065570                   Cyber Gun   2019-04-23        1   \n",
      "27072  1065650            Super Star Blast   2019-04-24        1   \n",
      "27073  1066700  New Yankee 7: Deer Hunters   2019-04-17        1   \n",
      "27074  1069460                   Rune Lord   2019-04-24        1   \n",
      "\n",
      "                developer             publisher          platforms  \\\n",
      "0                   Valve                 Valve  windows;mac;linux   \n",
      "1                   Valve                 Valve  windows;mac;linux   \n",
      "2                   Valve                 Valve  windows;mac;linux   \n",
      "3                   Valve                 Valve  windows;mac;linux   \n",
      "4        Gearbox Software                 Valve  windows;mac;linux   \n",
      "...                   ...                   ...                ...   \n",
      "27070         SHEN JIAWEI           SHEN JIAWEI            windows   \n",
      "27071      Semyon Maximov      BekkerDev Studio            windows   \n",
      "27072         EntwicklerX           EntwicklerX            windows   \n",
      "27073  Yustas Game Studio  Alawar Entertainment        windows;mac   \n",
      "27074    Adept Studios GD  Alawar Entertainment        windows;mac   \n",
      "\n",
      "       required_age                                         categories  \\\n",
      "0                 0  Multi-player;Online Multi-Player;Local Multi-P...   \n",
      "1                 0  Multi-player;Online Multi-Player;Local Multi-P...   \n",
      "2                 0              Multi-player;Valve Anti-Cheat enabled   \n",
      "3                 0  Multi-player;Online Multi-Player;Local Multi-P...   \n",
      "4                 0  Single-player;Multi-player;Valve Anti-Cheat en...   \n",
      "...             ...                                                ...   \n",
      "27070             0                   Single-player;Steam Achievements   \n",
      "27071             0                                      Single-player   \n",
      "27072             0  Single-player;Multi-player;Co-op;Shared/Split ...   \n",
      "27073             0                          Single-player;Steam Cloud   \n",
      "27074             0                          Single-player;Steam Cloud   \n",
      "\n",
      "                       genres                 steamspy_tags  achievements  \\\n",
      "0                      Action        Action;FPS;Multiplayer             0   \n",
      "1                      Action        Action;FPS;Multiplayer             0   \n",
      "2                      Action  FPS;World War II;Multiplayer             0   \n",
      "3                      Action        Action;FPS;Multiplayer             0   \n",
      "4                      Action             FPS;Action;Sci-fi             0   \n",
      "...                       ...                           ...           ...   \n",
      "27070  Adventure;Casual;Indie        Adventure;Indie;Casual             7   \n",
      "27071  Action;Adventure;Indie        Action;Indie;Adventure             0   \n",
      "27072     Action;Casual;Indie           Action;Indie;Casual            24   \n",
      "27073  Adventure;Casual;Indie        Indie;Casual;Adventure             0   \n",
      "27074  Adventure;Casual;Indie        Indie;Casual;Adventure             0   \n",
      "\n",
      "       positive_ratings  negative_ratings  average_playtime  median_playtime  \\\n",
      "0                124534              3339             17612              317   \n",
      "1                  3318               633               277               62   \n",
      "2                  3416               398               187               34   \n",
      "3                  1273               267               258              184   \n",
      "4                  5250               288               624              415   \n",
      "...                 ...               ...               ...              ...   \n",
      "27070                 3                 0                 0                0   \n",
      "27071                 8                 1                 0                0   \n",
      "27072                 0                 1                 0                0   \n",
      "27073                 2                 0                 0                0   \n",
      "27074                 4                 0                 0                0   \n",
      "\n",
      "                  owners  price  \n",
      "0      10000000-20000000   7.19  \n",
      "1       5000000-10000000   3.99  \n",
      "2       5000000-10000000   3.99  \n",
      "3       5000000-10000000   3.99  \n",
      "4       5000000-10000000   3.99  \n",
      "...                  ...    ...  \n",
      "27070            0-20000   2.09  \n",
      "27071            0-20000   1.69  \n",
      "27072            0-20000   3.99  \n",
      "27073            0-20000   5.19  \n",
      "27074            0-20000   5.19  \n",
      "\n",
      "[27075 rows x 18 columns]>\n"
     ]
    }
   ],
   "source": [
    "print(steam_data.info)"
   ]
  },
  {
   "cell_type": "code",
   "execution_count": 151,
   "id": "3ae32a05",
   "metadata": {},
   "outputs": [
    {
     "name": "stdout",
     "output_type": "stream",
     "text": [
      "                        name  \\\n",
      "0             Counter-Strike   \n",
      "1      Team Fortress Classic   \n",
      "2              Day of Defeat   \n",
      "3         Deathmatch Classic   \n",
      "4  Half-Life: Opposing Force   \n",
      "\n",
      "                                          categories  genres  \\\n",
      "0  Multi-player;Online Multi-Player;Local Multi-P...  Action   \n",
      "1  Multi-player;Online Multi-Player;Local Multi-P...  Action   \n",
      "2              Multi-player;Valve Anti-Cheat enabled  Action   \n",
      "3  Multi-player;Online Multi-Player;Local Multi-P...  Action   \n",
      "4  Single-player;Multi-player;Valve Anti-Cheat en...  Action   \n",
      "\n",
      "   positive_ratings  negative_ratings  \n",
      "0            124534              3339  \n",
      "1              3318               633  \n",
      "2              3416               398  \n",
      "3              1273               267  \n",
      "4              5250               288  \n"
     ]
    }
   ],
   "source": [
    "organized_df= steam_data[['name', 'categories', 'genres', 'positive_ratings', 'negative_ratings']].copy()\n",
    "print(organized_df.head())"
   ]
  },
  {
   "cell_type": "code",
   "execution_count": 176,
   "id": "529e982a",
   "metadata": {},
   "outputs": [
    {
     "name": "stdout",
     "output_type": "stream",
     "text": [
      "                             name  \\\n",
      "0                  Counter-Strike   \n",
      "1           Team Fortress Classic   \n",
      "2                   Day of Defeat   \n",
      "3              Deathmatch Classic   \n",
      "4       Half-Life: Opposing Force   \n",
      "...                           ...   \n",
      "27070             Room of Pandora   \n",
      "27071                   Cyber Gun   \n",
      "27072            Super Star Blast   \n",
      "27073  New Yankee 7: Deer Hunters   \n",
      "27074                   Rune Lord   \n",
      "\n",
      "                                              categories  \\\n",
      "0      Multi-player;Online Multi-Player;Local Multi-P...   \n",
      "1      Multi-player;Online Multi-Player;Local Multi-P...   \n",
      "2                  Multi-player;Valve Anti-Cheat enabled   \n",
      "3      Multi-player;Online Multi-Player;Local Multi-P...   \n",
      "4      Single-player;Multi-player;Valve Anti-Cheat en...   \n",
      "...                                                  ...   \n",
      "27070                   Single-player;Steam Achievements   \n",
      "27071                                      Single-player   \n",
      "27072  Single-player;Multi-player;Co-op;Shared/Split ...   \n",
      "27073                          Single-player;Steam Cloud   \n",
      "27074                          Single-player;Steam Cloud   \n",
      "\n",
      "                       genres  positive_ratings  negative_ratings  \n",
      "0                      Action            124534              3339  \n",
      "1                      Action              3318               633  \n",
      "2                      Action              3416               398  \n",
      "3                      Action              1273               267  \n",
      "4                      Action              5250               288  \n",
      "...                       ...               ...               ...  \n",
      "27070  Adventure;Casual;Indie                 3                 0  \n",
      "27071  Action;Adventure;Indie                 8                 1  \n",
      "27072     Action;Casual;Indie                 0                 1  \n",
      "27073  Adventure;Casual;Indie                 2                 0  \n",
      "27074  Adventure;Casual;Indie                 4                 0  \n",
      "\n",
      "[27033 rows x 5 columns]\n"
     ]
    }
   ],
   "source": [
    "organized_df.duplicated(subset= ['name']).sum()\n",
    "organized_df.loc[organized_df.duplicated(['name']), :]\n",
    "minus_repeating_games=organized_df.drop_duplicates(subset= 'name',keep='first')\n",
    "print(minus_repeating_games)"
   ]
  },
  {
   "cell_type": "code",
   "execution_count": 177,
   "id": "86c310b7",
   "metadata": {},
   "outputs": [
    {
     "data": {
      "text/plain": [
       "0        124534\n",
       "1          3318\n",
       "2          3416\n",
       "3          1273\n",
       "4          5250\n",
       "          ...  \n",
       "27070         3\n",
       "27071         8\n",
       "27072      None\n",
       "27073         2\n",
       "27074         4\n",
       "Name: positive_ratings, Length: 27033, dtype: object"
      ]
     },
     "execution_count": 177,
     "metadata": {},
     "output_type": "execute_result"
    }
   ],
   "source": [
    "minus_repeating_games['positive_ratings'].replace(0,'None')"
   ]
  },
  {
   "cell_type": "code",
   "execution_count": 178,
   "id": "2a6b7d1e",
   "metadata": {},
   "outputs": [
    {
     "data": {
      "text/plain": [
       "0        3339\n",
       "1         633\n",
       "2         398\n",
       "3         267\n",
       "4         288\n",
       "         ... \n",
       "27070    None\n",
       "27071       1\n",
       "27072       1\n",
       "27073    None\n",
       "27074    None\n",
       "Name: negative_ratings, Length: 27033, dtype: object"
      ]
     },
     "execution_count": 178,
     "metadata": {},
     "output_type": "execute_result"
    }
   ],
   "source": [
    "minus_repeating_games['negative_ratings'].replace(0,'None')"
   ]
  },
  {
   "cell_type": "code",
   "execution_count": 179,
   "id": "168cbb46",
   "metadata": {},
   "outputs": [
    {
     "name": "stdout",
     "output_type": "stream",
     "text": [
      "0\n"
     ]
    }
   ],
   "source": [
    "missing_organized_df = pd.isnull(minus_repeating_games['name']).sum()\n",
    "print(missing_organized_df)"
   ]
  },
  {
   "cell_type": "code",
   "execution_count": 180,
   "id": "e062c16a",
   "metadata": {},
   "outputs": [
    {
     "name": "stdout",
     "output_type": "stream",
     "text": [
      "25637\n",
      "3971\n"
     ]
    }
   ],
   "source": [
    "print(minus_repeating_games['categories'].str.contains('Single-player').value_counts()[True])\n",
    "print(minus_repeating_games['categories'].str.contains('Multi-player').value_counts()[True])\n",
    "# The Multiplayer .value_counts() would include categories such as Local Multiplayer and Cross-platform Multiplayer "
   ]
  },
  {
   "cell_type": "code",
   "execution_count": 181,
   "id": "5e952461",
   "metadata": {},
   "outputs": [
    {
     "name": "stdout",
     "output_type": "stream",
     "text": [
      "19392\n",
      "11884\n",
      "10190\n",
      "10017\n",
      "5243\n",
      "5180\n",
      "4304\n",
      "1702\n",
      "1022\n"
     ]
    }
   ],
   "source": [
    "print(minus_repeating_games['genres'].str.contains('Indie').value_counts()[True])\n",
    "print(minus_repeating_games['genres'].str.contains('Action').value_counts()[True])\n",
    "print(minus_repeating_games['genres'].str.contains('Casual').value_counts()[True])\n",
    "print(minus_repeating_games['genres'].str.contains('Adventure').value_counts()[True])\n",
    "print(minus_repeating_games['genres'].str.contains('Strategy').value_counts()[True])\n",
    "print(minus_repeating_games['genres'].str.contains('Simulation').value_counts()[True])\n",
    "print(minus_repeating_games['genres'].str.contains('RPG').value_counts()[True])\n",
    "print(minus_repeating_games['genres'].str.contains('Free to Play').value_counts()[True])\n",
    "print(minus_repeating_games['genres'].str.contains('Racing').value_counts()[True])\n",
    "#there should be more data in genres than rows due to games being able to be classified as more than just one genre "
   ]
  },
  {
   "cell_type": "code",
   "execution_count": 184,
   "id": "5cdd8cd2",
   "metadata": {},
   "outputs": [
    {
     "name": "stdout",
     "output_type": "stream",
     "text": [
      "                                   name  positive_ratings\n",
      "4802   Counter-Strike: Global Offensive           2644404\n",
      "6581                             Dota 2            863507\n",
      "21901                   Team Fortress 2            515879\n",
      "15971     PLAYERUNKNOWN'S BATTLEGROUNDS            496184\n",
      "9168                        Garry's Mod            363721\n",
      "...                                 ...               ...\n",
      "25000                  Virtual Ninja VR                 0\n",
      "8639      Forgotten Sound 1: Revelation                 0\n",
      "25882       World of Virtual Reality VR                 0\n",
      "2221                   Barrimean Jungle                 0\n",
      "23839        Towards a perilous journey                 0\n",
      "\n",
      "[27033 rows x 2 columns]\n"
     ]
    }
   ],
   "source": [
    "highest_rating_game= minus_repeating_games.groupby('name')['positive_ratings'].max().reset_index().sort_values(['positive_ratings'], ascending =False)\n",
    "print(highest_rating_game)"
   ]
  },
  {
   "cell_type": "code",
   "execution_count": 191,
   "id": "ca77d629",
   "metadata": {},
   "outputs": [
    {
     "name": "stdout",
     "output_type": "stream",
     "text": [
      "                                   name  negative_ratings\n",
      "15971     PLAYERUNKNOWN'S BATTLEGROUNDS            487076\n",
      "4802   Counter-Strike: Global Offensive            402313\n",
      "6581                             Dota 2            142079\n",
      "9611                 Grand Theft Auto V            139308\n",
      "26183                  Z1 Battle Royale             91664\n",
      "...                                 ...               ...\n",
      "22108                  The Angry Banana                 0\n",
      "6627                       Dr. Spacezoo                 0\n",
      "17371                         R Academy                 0\n",
      "17370                              Qybe                 0\n",
      "15341                          Nurikabe                 0\n",
      "\n",
      "[27033 rows x 2 columns]\n"
     ]
    }
   ],
   "source": [
    "lowest_rating_game= minus_repeating_games.groupby('name')['negative_ratings'].max().reset_index().sort_values(['negative_ratings'], ascending =False)\n",
    "print(lowest_rating_game)"
   ]
  },
  {
   "cell_type": "code",
   "execution_count": null,
   "id": "7fcbfa53",
   "metadata": {},
   "outputs": [],
   "source": []
  }
 ],
 "metadata": {
  "kernelspec": {
   "display_name": "Python 3 (ipykernel)",
   "language": "python",
   "name": "python3"
  },
  "language_info": {
   "codemirror_mode": {
    "name": "ipython",
    "version": 3
   },
   "file_extension": ".py",
   "mimetype": "text/x-python",
   "name": "python",
   "nbconvert_exporter": "python",
   "pygments_lexer": "ipython3",
   "version": "3.9.13"
  }
 },
 "nbformat": 4,
 "nbformat_minor": 5
}
